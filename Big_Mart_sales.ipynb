{
 "cells": [
  {
   "cell_type": "code",
   "execution_count": null,
   "metadata": {},
   "outputs": [],
   "source": [
    "# Importing necessary libraries\n",
    "import pandas as pd\n",
    "import numpy as np\n",
    "from sklearn.utils import shuffle\n",
    "from sklearn.metrics import mean_absolute_error as MAE\n",
    "\n",
    "# Loading the dataset\n",
    "data = pd.read_csv(r'C:\\reading_csv\\datasets\\big_mart_sales.csv')\n",
    "\n",
    "# Data Exploration: Checking for missing values\n",
    "print(data.isna().sum())\n",
    "\n",
    "# Shuffling the data to ensure randomness\n",
    "data = shuffle(data, random_state=42)\n",
    "\n",
    "# Dividing data into training (75%) and test (25%) sets\n",
    "div = int(data.shape[0] / 4)\n",
    "train = data.loc[:3 * div + 1, :]\n",
    "test = data.loc[3 * div + 1:, :]\n",
    "\n",
    "# Simple Mean Prediction: Mean of 'Item_Outlet_Sales'\n",
    "test['simple_mean'] = train['Item_Outlet_Sales'].mean()\n",
    "\n",
    "# Calculate Mean Absolute Error (MAE) for Simple Mean Prediction\n",
    "simple_mean_error = MAE(test['Item_Outlet_Sales'], test['simple_mean'])\n",
    "print(f\"Simple Mean Error (MAE): {simple_mean_error}\")\n",
    "\n",
    "# Mean Sales based on Outlet_Type\n",
    "out_type = pd.pivot_table(train, values='Item_Outlet_Sales', index=['Outlet_Type'], aggfunc=np.mean)\n",
    "print(out_type)\n",
    "\n",
    "# Initialize a new column in the test set to store predictions based on Outlet_Type\n",
    "test['Out_type_mean'] = 0\n",
    "\n",
    "# Predict the mean sales for each unique Outlet_Type in the test set\n",
    "for outlet_type in train['Outlet_Type'].unique():\n",
    "    mean_value = train[train['Outlet_Type'] == outlet_type]['Item_Outlet_Sales'].mean()\n",
    "    test.loc[test['Outlet_Type'] == outlet_type, 'Out_type_mean'] = mean_value\n",
    "\n",
    "# Calculate MAE for Outlet_Type based prediction\n",
    "out_type_error = MAE(test['Item_Outlet_Sales'], test['Out_type_mean'])\n",
    "print(f\"Outlet Type Mean Error (MAE): {out_type_error}\")\n",
    "\n",
    "# Comparison of Simple Mean and Outlet-Type Mean Errors\n",
    "if simple_mean_error > out_type_error:\n",
    "    print(\"Outlet Type Mean Prediction performs better than Simple Mean Prediction.\")\n",
    "else:\n",
    "    print(\"Simple Mean Prediction performs better.\")\n"
   ]
  }
 ],
 "metadata": {
  "kernelspec": {
   "display_name": "base",
   "language": "python",
   "name": "python3"
  },
  "language_info": {
   "name": "python",
   "version": "3.12.4"
  }
 },
 "nbformat": 4,
 "nbformat_minor": 2
}
